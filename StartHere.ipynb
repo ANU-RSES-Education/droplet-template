{
 "cells": [
  {
   "cell_type": "markdown",
   "metadata": {},
   "source": [
    "## Examples\n",
    "\n",
    "Some sample notebooks demonstrating some of the packages we frequently use such as `stripy`, `cartopy`, `litho1pt0`\n",
    "\n",
    "  - [Example 1 - Stripy triangulations of the sphere](Notebooks/Example1-Stripy-Spherical-Triangulations.ipynb)\n",
    "  - [Example 2 - Stripy smoothing on the sphere](Notebooks/Example2-Stripy-Smoothing.ipynb)\n",
    "  - [Example 3 - Cartopy on-demand access to SRTM](Example3-Cartopy-WorkingWithShuttleRadarTopography.ipynb)\n",
    "  - [Example 4 - Cartopy and the litho 1.0 lithosphere model](Example4-Litho1pt0-Layers.ipynb)\n",
    "  "
   ]
  },
  {
   "cell_type": "code",
   "execution_count": null,
   "metadata": {},
   "outputs": [],
   "source": []
  }
 ],
 "metadata": {
  "file_extension": ".py",
  "kernelspec": {
   "display_name": "Python 3.7.6 64-bit ('base': conda)",
   "language": "python",
   "name": "python37664bitbaseconda56fe6d69fc4741fdbf8bf1acb5c09fd6"
  },
  "language_info": {
   "codemirror_mode": {
    "name": "ipython",
    "version": 3
   },
   "file_extension": ".py",
   "mimetype": "text/x-python",
   "name": "python",
   "nbconvert_exporter": "python",
   "pygments_lexer": "ipython3",
   "version": "3.7.6"
  },
  "mimetype": "text/x-python",
  "name": "python",
  "npconvert_exporter": "python",
  "pygments_lexer": "ipython3",
  "version": 3
 },
 "nbformat": 4,
 "nbformat_minor": 4
}
